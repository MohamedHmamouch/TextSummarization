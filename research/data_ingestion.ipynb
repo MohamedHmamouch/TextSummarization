{
 "cells": [
  {
   "cell_type": "markdown",
   "metadata": {},
   "source": [
    "# This notebook is for data ingestion"
   ]
  },
  {
   "cell_type": "code",
   "execution_count": 1,
   "metadata": {},
   "outputs": [],
   "source": [
    "import os"
   ]
  },
  {
   "cell_type": "code",
   "execution_count": 2,
   "metadata": {},
   "outputs": [
    {
     "data": {
      "text/plain": [
       "'c:\\\\Users\\\\adminn\\\\Documents\\\\GitHub\\\\TextSummarization\\\\research'"
      ]
     },
     "execution_count": 2,
     "metadata": {},
     "output_type": "execute_result"
    }
   ],
   "source": [
    "os.getcwd()"
   ]
  },
  {
   "cell_type": "code",
   "execution_count": null,
   "metadata": {},
   "outputs": [],
   "source": []
  },
  {
   "cell_type": "code",
   "execution_count": 3,
   "metadata": {},
   "outputs": [],
   "source": [
    "os.chdir(\"C:/Users/adminn/Documents/GitHub/TextSummarization\")"
   ]
  },
  {
   "cell_type": "code",
   "execution_count": 4,
   "metadata": {},
   "outputs": [
    {
     "data": {
      "text/plain": [
       "'C:\\\\Users\\\\adminn\\\\Documents\\\\GitHub\\\\TextSummarization'"
      ]
     },
     "execution_count": 4,
     "metadata": {},
     "output_type": "execute_result"
    }
   ],
   "source": [
    "os.getcwd()"
   ]
  },
  {
   "cell_type": "code",
   "execution_count": 5,
   "metadata": {},
   "outputs": [],
   "source": [
    "from dataclasses import dataclass\n",
    "from pathlib import Path\n",
    "\n",
    "@dataclass(frozen=True)\n",
    "class DataIngestionConfig:\n",
    "\n",
    "    root_dir: Path\n",
    "    local_data_file: Path\n",
    "    unzip_dir: Path\n",
    "    source_URL:Path"
   ]
  },
  {
   "cell_type": "code",
   "execution_count": 17,
   "metadata": {},
   "outputs": [],
   "source": [
    "from src.textSummarizer.constants import *\n",
    "\n",
    "from src.textSummarizer.utils.common import read_yaml,create_directories"
   ]
  },
  {
   "cell_type": "code",
   "execution_count": 18,
   "metadata": {},
   "outputs": [],
   "source": [
    "class ConfigurationManager:\n",
    "    def __init__(\n",
    "        self,\n",
    "        config_filepath = CONFIG_FILE_PATH,\n",
    "        params_filepath = PARAMS_FILE_PATH):\n",
    "\n",
    "        self.config = read_yaml(config_filepath)\n",
    "        self.params = read_yaml(params_filepath)\n",
    "\n",
    "        create_directories([self.config.artifacts_root])\n",
    "\n",
    "    \n",
    "\n",
    "    def get_data_ingestion_config(self) -> DataIngestionConfig:\n",
    "        config = self.config.data_ingestion\n",
    "\n",
    "        create_directories([config.root_dir])\n",
    "\n",
    "        data_ingestion_config = DataIngestionConfig(\n",
    "            root_dir=config.root_dir,\n",
    "            local_data_file=config.local_data_file,\n",
    "            unzip_dir=config.unzip_dir,\n",
    "            source_URL=config.source_URL\n",
    "        )\n",
    "\n",
    "        return data_ingestion_config"
   ]
  },
  {
   "cell_type": "code",
   "execution_count": 19,
   "metadata": {},
   "outputs": [
    {
     "name": "stdout",
     "output_type": "stream",
     "text": [
      "[2023-07-15 02:24:03,500: INFO: common: yaml file config\\config.yaml load successfully]\n",
      "[2023-07-15 02:24:03,505: INFO: common: yaml file params.yaml load successfully]\n",
      "[2023-07-15 02:24:03,508: INFO: common: created directory at artifacts]\n",
      "[2023-07-15 02:24:03,510: INFO: common: created directory at artifacts/data_ingestion]\n"
     ]
    },
    {
     "ename": "TypeError",
     "evalue": "__init__() got an unexpected keyword argument 'source_URL'",
     "output_type": "error",
     "traceback": [
      "\u001b[1;31m---------------------------------------------------------------------------\u001b[0m",
      "\u001b[1;31mTypeError\u001b[0m                                 Traceback (most recent call last)",
      "Cell \u001b[1;32mIn[19], line 6\u001b[0m\n\u001b[0;32m      3\u001b[0m     data_ingestion_config \u001b[39m=\u001b[39m config\u001b[39m.\u001b[39mget_data_ingestion_config()\n\u001b[0;32m      5\u001b[0m \u001b[39mexcept\u001b[39;00m \u001b[39mException\u001b[39;00m \u001b[39mas\u001b[39;00m e:\n\u001b[1;32m----> 6\u001b[0m     \u001b[39mraise\u001b[39;00m e\n",
      "Cell \u001b[1;32mIn[19], line 3\u001b[0m\n\u001b[0;32m      1\u001b[0m \u001b[39mtry\u001b[39;00m:\n\u001b[0;32m      2\u001b[0m     config \u001b[39m=\u001b[39m ConfigurationManager()\n\u001b[1;32m----> 3\u001b[0m     data_ingestion_config \u001b[39m=\u001b[39m config\u001b[39m.\u001b[39;49mget_data_ingestion_config()\n\u001b[0;32m      5\u001b[0m \u001b[39mexcept\u001b[39;00m \u001b[39mException\u001b[39;00m \u001b[39mas\u001b[39;00m e:\n\u001b[0;32m      6\u001b[0m     \u001b[39mraise\u001b[39;00m e\n",
      "Cell \u001b[1;32mIn[18], line 19\u001b[0m, in \u001b[0;36mConfigurationManager.get_data_ingestion_config\u001b[1;34m(self)\u001b[0m\n\u001b[0;32m     15\u001b[0m config \u001b[39m=\u001b[39m \u001b[39mself\u001b[39m\u001b[39m.\u001b[39mconfig\u001b[39m.\u001b[39mdata_ingestion\n\u001b[0;32m     17\u001b[0m create_directories([config\u001b[39m.\u001b[39mroot_dir])\n\u001b[1;32m---> 19\u001b[0m data_ingestion_config \u001b[39m=\u001b[39m DataIngestionConfig(\n\u001b[0;32m     20\u001b[0m     root_dir\u001b[39m=\u001b[39;49mconfig\u001b[39m.\u001b[39;49mroot_dir,\n\u001b[0;32m     21\u001b[0m     local_data_file\u001b[39m=\u001b[39;49mconfig\u001b[39m.\u001b[39;49mlocal_data_file,\n\u001b[0;32m     22\u001b[0m     unzip_dir\u001b[39m=\u001b[39;49mconfig\u001b[39m.\u001b[39;49munzip_dir,\n\u001b[0;32m     23\u001b[0m     source_URL\u001b[39m=\u001b[39;49mconfig\u001b[39m.\u001b[39;49msource_URL\n\u001b[0;32m     24\u001b[0m )\n\u001b[0;32m     26\u001b[0m \u001b[39mreturn\u001b[39;00m data_ingestion_config\n",
      "\u001b[1;31mTypeError\u001b[0m: __init__() got an unexpected keyword argument 'source_URL'"
     ]
    }
   ],
   "source": [
    "try:\n",
    "    config = ConfigurationManager()\n",
    "    data_ingestion_config = config.get_data_ingestion_config()\n",
    "\n",
    "except Exception as e:\n",
    "    raise e"
   ]
  },
  {
   "cell_type": "code",
   "execution_count": null,
   "metadata": {},
   "outputs": [],
   "source": [
    "import urllib.request as request\n",
    "import zipfile\n",
    "from src.textSummarizer.logging import logger\n",
    "from src.textSummarizer.utils.common import get_size"
   ]
  },
  {
   "cell_type": "code",
   "execution_count": null,
   "metadata": {},
   "outputs": [],
   "source": [
    "class DataIngestion:\n",
    "\n",
    "    def __init__(self,config:DataIngestionConfig):\n",
    "\n",
    "        self.config=config\n",
    "        \n",
    "\n",
    "    def download_file(self):\n",
    "\n",
    "        if not os.path.exists(self.config.local_data_file):\n",
    "\n",
    "            file"
   ]
  },
  {
   "cell_type": "code",
   "execution_count": null,
   "metadata": {},
   "outputs": [],
   "source": []
  },
  {
   "cell_type": "code",
   "execution_count": 16,
   "metadata": {},
   "outputs": [
    {
     "name": "stdout",
     "output_type": "stream",
     "text": [
      "[2023-07-14 23:17:07,796: INFO: common: yaml file config\\config.yaml load successfully]\n",
      "[2023-07-14 23:17:07,800: INFO: common: yaml file params.yaml load successfully]\n",
      "[2023-07-14 23:17:07,802: INFO: common: created directory at artifacts]\n",
      "[2023-07-14 23:17:07,805: INFO: common: created directory at artifacts/data_ingestion]\n"
     ]
    }
   ],
   "source": [
    "try:\n",
    "    config = ConfigurationManager()\n",
    "    data_ingestion_config = config.get_data_ingestion_config()\n",
    "\n",
    "except Exception as e:\n",
    "    raise e"
   ]
  },
  {
   "cell_type": "code",
   "execution_count": null,
   "metadata": {},
   "outputs": [],
   "source": []
  }
 ],
 "metadata": {
  "kernelspec": {
   "display_name": "env",
   "language": "python",
   "name": "python3"
  },
  "language_info": {
   "codemirror_mode": {
    "name": "ipython",
    "version": 3
   },
   "file_extension": ".py",
   "mimetype": "text/x-python",
   "name": "python",
   "nbconvert_exporter": "python",
   "pygments_lexer": "ipython3",
   "version": "3.9.10"
  },
  "orig_nbformat": 4
 },
 "nbformat": 4,
 "nbformat_minor": 2
}
